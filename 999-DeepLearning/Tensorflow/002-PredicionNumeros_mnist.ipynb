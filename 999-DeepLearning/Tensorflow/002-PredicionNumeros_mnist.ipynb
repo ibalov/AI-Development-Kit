{
 "cells": [
  {
   "cell_type": "markdown",
   "id": "3b535171-5fa4-4c5a-8993-36f4cdf1292e",
   "metadata": {},
   "source": [
    "# 2- RED NEURONAL QUE PUEDE LEER"
   ]
  },
  {
   "cell_type": "markdown",
   "id": "97738ce1-df92-4fb4-9d3b-fff77685c55f",
   "metadata": {},
   "source": [
    "Cuando es entrenado por primera vez, los resultados son erróneos con la predicción. Entonces debemos \"enseñarle\" que es lo que hizo mal a través de **La función de costo** con el objetivo de minizar esta función a través de la **Optimización**:\n",
    "- Peso de las conexiones: define que tan fuerte es una conexión entre 2 neuronas\n",
    "- Umbrales de las neuronas: Es el número que tiene cada neurona, lo utiliza para definir como funcionar"
   ]
  },
  {
   "cell_type": "markdown",
   "id": "2cb204af-a362-4af3-8f41-9a536a502dd9",
   "metadata": {},
   "source": [
    "<hr> "
   ]
  },
  {
   "cell_type": "markdown",
   "id": "1eb662b2-0c03-4b69-b73c-2e10f0cfc42d",
   "metadata": {},
   "source": [
    "### Imports"
   ]
  },
  {
   "cell_type": "code",
   "execution_count": 1,
   "id": "8942ea38-ed00-4236-aa87-05739c0ef396",
   "metadata": {},
   "outputs": [
    {
     "name": "stdout",
     "output_type": "stream",
     "text": [
      "WARNING:tensorflow:From C:\\Users\\Desarrollo05\\AppData\\Local\\Programs\\Python\\Python310\\lib\\site-packages\\keras\\src\\losses.py:2976: The name tf.losses.sparse_softmax_cross_entropy is deprecated. Please use tf.compat.v1.losses.sparse_softmax_cross_entropy instead.\n",
      "\n"
     ]
    }
   ],
   "source": [
    "import tensorflow as tf\n",
    "import tensorflow_datasets as tfds\n",
    "\n",
    "import math\n",
    "import numpy as np\n",
    "import matplotlib.pyplot as plt\n",
    "import logging\n",
    "\n",
    "logger = tf.get_logger()\n",
    "logger.setLevel(logging.ERROR)"
   ]
  },
  {
   "cell_type": "markdown",
   "id": "34a60dc8-c2ba-4e1d-84da-c5f9a75584a2",
   "metadata": {},
   "source": [
    "### DataSet"
   ]
  },
  {
   "cell_type": "code",
   "execution_count": 2,
   "id": "c015717e-976f-4835-8563-864bd7a2cd22",
   "metadata": {},
   "outputs": [],
   "source": [
    "#Obtenemos el set de datos y metadatos con la libreria mnist\n",
    "dataset, metadata = tfds.load('mnist', as_supervised=True, with_info=True)"
   ]
  },
  {
   "cell_type": "code",
   "execution_count": 27,
   "id": "8891fe24-3cd0-42ba-abfc-5ab99c14440c",
   "metadata": {},
   "outputs": [],
   "source": [
    "#obtenemos los 100mil como entrenamiendo y 10mil como test\n",
    "train_dataset, test_dataset = dataset['train'], dataset['test']"
   ]
  },
  {
   "cell_type": "code",
   "execution_count": 28,
   "id": "a4395126-ed9c-49ee-a9ed-4a7795c9122c",
   "metadata": {},
   "outputs": [],
   "source": [
    "#Definimos etiquetas simples para cada posible respuesta\n",
    "class_names = [\n",
    "    'Cero','Uno','Dos','Tres','Cuatro','Cinco','Seis',\n",
    "    'Siete','Ocho','Nueve'\n",
    "]\n",
    "\n",
    "#Obtenemos los ejemplos en variables para usarlos despues\n",
    "num_train_examples = metadata.splits['train'].num_examples\n",
    "num_test_examples = metadata.splits['test'].num_examples"
   ]
  },
  {
   "cell_type": "code",
   "execution_count": 29,
   "id": "3bf53675-ee4e-4450-a959-9c04823d0d9d",
   "metadata": {},
   "outputs": [],
   "source": [
    "# Normalizar: nº de 0 a 255, que sean de 0 a 1\n",
    "def normalize(images, labels):\n",
    "    images = tf.cast(images, tf.float32)\n",
    "    images /= 255\n",
    "    return images, labels"
   ]
  },
  {
   "cell_type": "code",
   "execution_count": 30,
   "id": "c6c4c899-8b9b-40e6-8540-66c1c43b152a",
   "metadata": {},
   "outputs": [],
   "source": [
    "# Llevamos la funcion de normalización en cada dato de ambos sets de datos \n",
    "train_dataset = train_dataset.map(normalize)\n",
    "test_dataset = test_dataset.map(normalize)"
   ]
  },
  {
   "cell_type": "markdown",
   "id": "a74ac365-e4ae-40c1-85e3-d7e9f76e4838",
   "metadata": {},
   "source": [
    "### Estructura de la RedNeuronal"
   ]
  },
  {
   "cell_type": "code",
   "execution_count": 31,
   "id": "11d6d758-806e-422c-8121-a9f6a7083846",
   "metadata": {},
   "outputs": [],
   "source": [
    "# Indicamos la capa de entrada con 784 neuronas de 28x28\n",
    "# luego se agrega 2 capas ocultas densas con 64 neuronas cada una\n",
    "model = tf.keras.Sequential([\n",
    "    tf.keras.layers.Flatten(input_shape=(28,28,1)),\n",
    "    tf.keras.layers.Dense(3, activation=tf.nn.relu),\n",
    "    tf.keras.layers.Dense(3, activation=tf.nn.relu),\n",
    "    tf.keras.layers.Dense(10, activation=tf.nn.softmax) #softmax para clasificacion\n",
    "])"
   ]
  },
  {
   "cell_type": "markdown",
   "id": "d306f6b7-f146-4e66-8401-6d5fce8fba01",
   "metadata": {},
   "source": [
    "- El optimizador: Controla cómo el modelo ajusta los pesos para minimizar el error\n",
    "- La función de pérdida (o costo): Mide qué tan bien o mal el modelo está realizando las predicciones comparadas con las etiquetas reales.\n",
    "- Las métricas: Permiten evaluar el desempeño del modelo durante y después del entrenamiento."
   ]
  },
  {
   "cell_type": "code",
   "execution_count": 32,
   "id": "74b21f31-37ca-4171-8c41-45f343e7dc19",
   "metadata": {},
   "outputs": [],
   "source": [
    "# compliar el modelo especificando la funcion de costo y el optimizador\n",
    "model.compile(\n",
    "    optimizer='adam', \n",
    "    loss='sparse_categorical_crossentropy', #mide cuán lejos están las predicciones del modelo de las etiquetas reales\n",
    "    metrics = ['accuracy'] #Evalúe el desempeño del modelo usando la métrica de precisión\n",
    ")"
   ]
  },
  {
   "cell_type": "code",
   "execution_count": 33,
   "id": "75cd8e04-0e12-4c1a-9fdc-ecb33442907f",
   "metadata": {},
   "outputs": [],
   "source": [
    "# Preparar el set de datos\n",
    "# Aprendizaje por lotes de 32 cada lote\n",
    "BATCHSIZE = 32\n",
    "#datos de entrenamiento de manera aleatoria\n",
    "train_dataset = train_dataset.repeat().shuffle(num_train_examples).batch(BATCHSIZE)\n",
    "test_dataset = test_dataset.batch(BATCHSIZE)"
   ]
  },
  {
   "cell_type": "markdown",
   "id": "db0e46be-a631-4808-a6fe-696b016f8824",
   "metadata": {},
   "source": [
    "### Entrenamiento"
   ]
  },
  {
   "cell_type": "code",
   "execution_count": 34,
   "id": "52b15b2e-268f-4e36-a01d-35ca90598161",
   "metadata": {},
   "outputs": [
    {
     "name": "stdout",
     "output_type": "stream",
     "text": [
      "Epoch 1/5\n",
      "1875/1875 [==============================] - 5s 2ms/step - loss: 1.3976 - accuracy: 0.5239\n",
      "Epoch 2/5\n",
      "1875/1875 [==============================] - 3s 2ms/step - loss: 1.0116 - accuracy: 0.6798\n",
      "Epoch 3/5\n",
      "1875/1875 [==============================] - 3s 2ms/step - loss: 0.9375 - accuracy: 0.7057\n",
      "Epoch 4/5\n",
      "1875/1875 [==============================] - 3s 2ms/step - loss: 0.8969 - accuracy: 0.7196\n",
      "Epoch 5/5\n",
      "1875/1875 [==============================] - 3s 2ms/step - loss: 0.8817 - accuracy: 0.7297\n"
     ]
    },
    {
     "data": {
      "text/plain": [
       "<keras.src.callbacks.History at 0x262d40acbe0>"
      ]
     },
     "execution_count": 34,
     "metadata": {},
     "output_type": "execute_result"
    }
   ],
   "source": [
    "# Realizar el aprendizaje\n",
    "model.fit(\n",
    "    train_dataset, epochs=5,\n",
    "    steps_per_epoch = math.ceil(num_train_examples/BATCHSIZE)\n",
    ")"
   ]
  },
  {
   "cell_type": "markdown",
   "id": "1a587837-8abf-49cb-bb82-aff0f5fc0c69",
   "metadata": {},
   "source": [
    "### Evaluacion"
   ]
  },
  {
   "cell_type": "code",
   "execution_count": 35,
   "id": "f71b9fab-dd0c-4d48-be28-829a0ed74b4e",
   "metadata": {},
   "outputs": [
    {
     "name": "stdout",
     "output_type": "stream",
     "text": [
      "313/313 [==============================] - 1s 2ms/step - loss: 0.8678 - accuracy: 0.7366\n",
      "Resultado en las pruebas:  0.7365999817848206\n"
     ]
    }
   ],
   "source": [
    "# Evaluar el modelo ya entrenado, contra el dataset de pruebas\n",
    "test_loss, test_accuracy = model.evaluate(\n",
    "\ttest_dataset, steps=math.ceil(num_test_examples/32)\n",
    ")\n",
    "\n",
    "print(\"Resultado en las pruebas: \", test_accuracy)"
   ]
  },
  {
   "cell_type": "markdown",
   "id": "81b961d1-e894-46ad-bf63-bffffd8f8961",
   "metadata": {},
   "source": [
    "<hr>"
   ]
  },
  {
   "cell_type": "markdown",
   "id": "05c136df-4d27-4a91-9a54-f75014e2c6d6",
   "metadata": {},
   "source": [
    "### Visualización"
   ]
  },
  {
   "cell_type": "code",
   "execution_count": 36,
   "id": "18ef0f2a-2ab8-4d51-af20-4e3c0c17a059",
   "metadata": {},
   "outputs": [
    {
     "name": "stdout",
     "output_type": "stream",
     "text": [
      "1/1 [==============================] - 0s 69ms/step\n"
     ]
    }
   ],
   "source": [
    "for test_images, test_labels in test_dataset.take(1):\n",
    "\ttest_images = test_images.numpy()\n",
    "\ttest_labels = test_labels.numpy()\n",
    "    #aplicamos el modelo para predecir\n",
    "\tpredictions = model.predict(test_images)"
   ]
  },
  {
   "cell_type": "code",
   "execution_count": 37,
   "id": "002e92be-6a54-4eed-876a-bde2fa08a998",
   "metadata": {},
   "outputs": [],
   "source": [
    "def plot_image(i, predictions_array, true_labels, images):\n",
    "\tpredictions_array, true_label, img = predictions_array[i], true_labels[i], images[i]\n",
    "\tplt.grid(False)\n",
    "\tplt.xticks([])\n",
    "\tplt.yticks([])\n",
    "\n",
    "\tplt.imshow(img[...,0], cmap=plt.cm.binary)\n",
    "\n",
    "\tpredicted_label = np.argmax(predictions_array)\n",
    "\tif predicted_label == true_label:\n",
    "\t\tcolor = 'blue'\n",
    "\telse:\n",
    "\t\tcolor = 'red'\n",
    "\n",
    "\tplt.xlabel(\"Prediccion: {}\".format(class_names[predicted_label]), color=color)"
   ]
  },
  {
   "cell_type": "code",
   "execution_count": 38,
   "id": "98b4dbc3-1282-4e44-8f57-921afed556ad",
   "metadata": {},
   "outputs": [],
   "source": [
    "def plot_value_array(i, predictions_array, true_label):\n",
    "\tpredictions_array, true_label = predictions_array[i], true_label[i]\n",
    "\tplt.grid(False)\n",
    "\tplt.xticks([])\n",
    "\tplt.yticks([])\n",
    "\tthisplot = plt.bar(range(10), predictions_array, color=\"#888888\")\n",
    "\tplt.ylim([0,1])\n",
    "\tpredicted_label = np.argmax(predictions_array)\n",
    "\n",
    "\tthisplot[predicted_label].set_color('red')\n",
    "\tthisplot[true_label].set_color('blue')"
   ]
  },
  {
   "cell_type": "code",
   "execution_count": 39,
   "id": "22d09a3f-14b9-4416-b8a9-bafcd8c09009",
   "metadata": {},
   "outputs": [
    {
     "data": {
      "image/png": "[encoded data removed]",
      "text/plain": [
       "<Figure size 1200x1000 with 30 Axes>"
      ]
     },
     "metadata": {},
     "output_type": "display_data"
    }
   ],
   "source": [
    "numrows=5\n",
    "numcols=3\n",
    "numimages = numrows*numcols\n",
    "\n",
    "plt.figure(figsize=(2*2*numcols, 2*numrows))\n",
    "for i in range(numimages):\n",
    "\tplt.subplot(numrows, 2*numcols, 2*i+1)\n",
    "\tplot_image(i, predictions, test_labels, test_images)\n",
    "\tplt.subplot(numrows, 2*numcols, 2*i+2)\n",
    "\tplot_value_array(i, predictions, test_labels)\n",
    "\n",
    "plt.show()"
   ]
  },
  {
   "cell_type": "markdown",
   "id": "f4c4441f-97ef-476d-b4fe-79637564ec04",
   "metadata": {},
   "source": [
    "**En este caso tenemos 2 capas con 3 neuronas por lo que el resultado es peor, sin embargo con un mayor numero de neuroas podemos obtener mejores resultados**"
   ]
  }
 ],
 "metadata": {
  "kernelspec": {
   "display_name": "Python 3 (ipykernel)",
   "language": "python",
   "name": "python3"
  },
  "language_info": {
   "codemirror_mode": {
    "name": "ipython",
    "version": 3
   },
   "file_extension": ".py",
   "mimetype": "text/x-python",
   "name": "python",
   "nbconvert_exporter": "python",
   "pygments_lexer": "ipython3",
   "version": "3.10.0rc2"
  }
 },
 "nbformat": 4,
 "nbformat_minor": 5
}
