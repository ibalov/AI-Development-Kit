{
 "cells": [
  {
   "cell_type": "markdown",
   "id": "81080ca1-a020-4eef-b820-d1ddecbcd755",
   "metadata": {},
   "source": [
    "# Primera red Neuronal"
   ]
  },
  {
   "cell_type": "code",
   "execution_count": 26,
   "id": "379bf192-1429-49a0-8f3d-057093c74eff",
   "metadata": {},
   "outputs": [],
   "source": [
    "import tensorflow as tf\n",
    "import numpy as np"
   ]
  },
  {
   "cell_type": "code",
   "execution_count": 27,
   "id": "9e5c702f-a60d-4158-9f1f-b78fe664aa58",
   "metadata": {},
   "outputs": [],
   "source": [
    "celcius = np.array([-40,-10,0,8,15,22,38], dtype=float)\n",
    "fahrenheit = np.array([-40,14,32,46,59,72,100], dtype=float)"
   ]
  },
  {
   "cell_type": "code",
   "execution_count": 30,
   "id": "9daef5a2-8ed5-4ee9-bc48-c45f055fcf51",
   "metadata": {},
   "outputs": [],
   "source": [
    "#Keras nos permite usar tensorflow de manera simple\n",
    "# Capas densas: hacen la conexion con el resto de capas hidden\n",
    "# units = output unidades o neuronas\n",
    "# input_shape: indicamos que tenemos una neurona también\n",
    "capa =  tf.keras.layers.Dense(units=1, input_shape=[1])\n",
    "#Necesitamos dar un modelo para entrenarlo\n",
    "modelo = tf.keras.Sequential([capa])"
   ]
  },
  {
   "cell_type": "code",
   "execution_count": 32,
   "id": "f735ad82-cdb4-4aba-b58f-b1ac7b914d84",
   "metadata": {},
   "outputs": [],
   "source": [
    "# Como procesa\n",
    "# optmizador: Adam le permite ajustar los pesos de manera eficiente\n",
    "# loss = perdida, una pequeña cantidad de errores grandes es mejor que una gran cantidad de errores pequeños\n",
    "modelo.compile(\n",
    "    optimizer = tf.keras.optimizers.Adam(0.1),\n",
    "    loss = 'mean_squared_error'\n",
    ")"
   ]
  },
  {
   "cell_type": "markdown",
   "id": "6540bb83-7172-47d9-9ad4-34ff7ff59284",
   "metadata": {},
   "source": [
    "### Entrenar modelo"
   ]
  },
  {
   "cell_type": "code",
   "execution_count": 42,
   "id": "2e8b409e-0c12-43cc-b143-eaf615a295ce",
   "metadata": {},
   "outputs": [
    {
     "name": "stdout",
     "output_type": "stream",
     "text": [
      "Comenzando entrenamiento...\n",
      "Modelo entrenado!\n"
     ]
    }
   ],
   "source": [
    "print('Comenzando entrenamiento...')\n",
    "#epoch= tantas vueltas que va entrenar el modelo\n",
    "#verbose = mostrar los prints de entrenamiento\n",
    "historial = modelo.fit(celcius, fahrenheit, epochs=1500, verbose=False)\n",
    "print(\"Modelo entrenado!\")"
   ]
  },
  {
   "cell_type": "markdown",
   "id": "283e7145-9826-4b3e-8fd0-2cad64ac9262",
   "metadata": {},
   "source": [
    "### Resultado perdida\n",
    "Con esto comprobamos que tan mal estan los resultados con cada vuelta que dió"
   ]
  },
  {
   "cell_type": "code",
   "execution_count": 43,
   "id": "4f06a977-6ca1-45bb-a5fd-7a1a7b88f937",
   "metadata": {},
   "outputs": [
    {
     "data": {
      "text/plain": [
       "[<matplotlib.lines.Line2D at 0x1b2cc34bbe0>]"
      ]
     },
     "execution_count": 43,
     "metadata": {},
     "output_type": "execute_result"
    },
    {
     "data": {
      "image/png": "[encoded data removed]",
      "text/plain": [
       "<Figure size 640x480 with 1 Axes>"
      ]
     },
     "metadata": {},
     "output_type": "display_data"
    }
   ],
   "source": [
    "import matplotlib.pyplot as plt\n",
    "plt.xlabel(\"# Epoca\")\n",
    "plt.ylabel(\"Magnitud de pérdida\")\n",
    "plt.plot(historial.history[\"loss\"])"
   ]
  },
  {
   "cell_type": "markdown",
   "id": "78d6c87a-0b54-4cf9-be57-748d4ab692fb",
   "metadata": {},
   "source": [
    "### Predicción"
   ]
  },
  {
   "cell_type": "code",
   "execution_count": 44,
   "id": "2e57d835-aa0d-43ca-922a-eb06694f3102",
   "metadata": {},
   "outputs": [
    {
     "name": "stdout",
     "output_type": "stream",
     "text": [
      "1/1 [==============================] - 0s 145ms/step\n",
      "El resultado es: [[211.74742]] fahrenheit\n"
     ]
    }
   ],
   "source": [
    "resultado = modelo.predict([100.0])\n",
    "print(f\"El resultado es: {resultado} fahrenheit\")"
   ]
  },
  {
   "cell_type": "markdown",
   "id": "6a7340df-38ed-4fd1-9291-79ef15b7c817",
   "metadata": {},
   "source": [
    "### Variables internas del modelo"
   ]
  },
  {
   "cell_type": "code",
   "execution_count": 47,
   "id": "ee7cbce1-72a9-4693-bf5f-cf008d69e058",
   "metadata": {},
   "outputs": [
    {
     "name": "stdout",
     "output_type": "stream",
     "text": [
      "[array([[1.7979491]], dtype=float32), array([31.952517], dtype=float32)]\n"
     ]
    }
   ],
   "source": [
    "# El peso es de 1.79\n",
    "# El sesgo a 31.89\n",
    "print(capa.get_weights())"
   ]
  },
  {
   "cell_type": "markdown",
   "id": "362010ee-39d1-49fa-9ca5-2b1738e82ef2",
   "metadata": {},
   "source": [
    "Esto significa que: **100 * 1.79 = 179.8+31.9 = 211.74**"
   ]
  },
  {
   "cell_type": "markdown",
   "id": "dd6c19ab-34ac-40eb-a7f7-9b84231c8049",
   "metadata": {},
   "source": [
    "<hr>"
   ]
  },
  {
   "cell_type": "markdown",
   "id": "791ea7fd-c6f5-46ca-9678-7d8509cf4df0",
   "metadata": {},
   "source": [
    "## ¿Qué pasaría añadiendo más capas?"
   ]
  },
  {
   "cell_type": "code",
   "execution_count": 49,
   "id": "d8bb1a46-b100-4197-8841-299aa85cf81e",
   "metadata": {},
   "outputs": [],
   "source": [
    "oculta1 = tf.keras.layers.Dense(units=3, input_shape=[1])\n",
    "oculta2 = tf.keras.layers.Dense(units=3)\n",
    "salida = tf.keras.layers.Dense(units=1)\n",
    "modelo = tf.keras.Sequential([oculta1,oculta2,salida])"
   ]
  },
  {
   "cell_type": "code",
   "execution_count": 50,
   "id": "a35eb06e-bafc-451b-954e-d8adbfa52cc9",
   "metadata": {},
   "outputs": [],
   "source": [
    "modelo.compile(\n",
    "    optimizer = tf.keras.optimizers.Adam(0.1),\n",
    "    loss = 'mean_squared_error'\n",
    ")"
   ]
  },
  {
   "cell_type": "code",
   "execution_count": 51,
   "id": "a14f08f0-ce2e-42a1-9bff-12c635a70bd5",
   "metadata": {},
   "outputs": [
    {
     "name": "stdout",
     "output_type": "stream",
     "text": [
      "Comenzando entrenamiento...\n",
      "Modelo entrenado!\n"
     ]
    }
   ],
   "source": [
    "print('Comenzando entrenamiento...')\n",
    "historial = modelo.fit(celcius, fahrenheit, epochs=1000, verbose=False)\n",
    "print(\"Modelo entrenado!\")"
   ]
  },
  {
   "cell_type": "code",
   "execution_count": 52,
   "id": "9daabe36-bc20-492e-bc81-90dbdacd6894",
   "metadata": {},
   "outputs": [
    {
     "data": {
      "text/plain": [
       "[<matplotlib.lines.Line2D at 0x1b2cf680400>]"
      ]
     },
     "execution_count": 52,
     "metadata": {},
     "output_type": "execute_result"
    },
    {
     "data": {
      "image/png": "[encoded data removed]",
      "text/plain": [
       "<Figure size 640x480 with 1 Axes>"
      ]
     },
     "metadata": {},
     "output_type": "display_data"
    }
   ],
   "source": [
    "import matplotlib.pyplot as plt\n",
    "plt.xlabel(\"# Epoca\")\n",
    "plt.ylabel(\"Magnitud de pérdida\")\n",
    "plt.plot(historial.history[\"loss\"])"
   ]
  },
  {
   "cell_type": "markdown",
   "id": "9aa14ac5-1a16-47f2-a224-9d256958fd3d",
   "metadata": {},
   "source": [
    "**Como observamos en la mayoría de los casos una red mas compleja nos da mejores resultados**"
   ]
  },
  {
   "cell_type": "code",
   "execution_count": 54,
   "id": "466491d0-29e8-41a7-bb03-f74d5546ad1a",
   "metadata": {},
   "outputs": [
    {
     "name": "stdout",
     "output_type": "stream",
     "text": [
      "1/1 [==============================] - 0s 112ms/step\n",
      "El resultado es: [[211.74745]] fahrenheit\n"
     ]
    }
   ],
   "source": [
    "resultado = modelo.predict([100.0])\n",
    "print(f\"El resultado es: {resultado} fahrenheit\")"
   ]
  },
  {
   "cell_type": "code",
   "execution_count": 55,
   "id": "4ca74191-fda0-4907-a769-eb122ca7fc5f",
   "metadata": {},
   "outputs": [
    {
     "name": "stdout",
     "output_type": "stream",
     "text": [
      "[array([[ 0.8597093 , -0.05517541,  0.02838393]], dtype=float32), array([4.450533 , 4.3670483, 2.9400287], dtype=float32)]\n",
      "[array([[ 0.81428444,  1.1087976 , -0.6684176 ],\n",
      "       [ 0.12486424,  0.88056195, -0.5174166 ],\n",
      "       [ 0.8297338 ,  0.5237129 ,  0.4327048 ]], dtype=float32), array([ 4.552215 ,  4.4967847, -3.427885 ], dtype=float32)]\n",
      "[array([[ 0.64629114],\n",
      "       [ 0.9959675 ],\n",
      "       [-0.7847876 ]], dtype=float32), array([4.182671], dtype=float32)]\n"
     ]
    }
   ],
   "source": [
    "#print(capa.get_weights())\n",
    "print(oculta1.get_weights())\n",
    "print(oculta2.get_weights())\n",
    "print(salida.get_weights())"
   ]
  }
 ],
 "metadata": {
  "kernelspec": {
   "display_name": "Python 3 (ipykernel)",
   "language": "python",
   "name": "python3"
  },
  "language_info": {
   "codemirror_mode": {
    "name": "ipython",
    "version": 3
   },
   "file_extension": ".py",
   "mimetype": "text/x-python",
   "name": "python",
   "nbconvert_exporter": "python",
   "pygments_lexer": "ipython3",
   "version": "3.10.0rc2"
  }
 },
 "nbformat": 4,
 "nbformat_minor": 5
}
